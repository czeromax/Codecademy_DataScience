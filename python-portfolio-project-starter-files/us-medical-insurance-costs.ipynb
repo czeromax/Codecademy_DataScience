{
 "cells": [
  {
   "cell_type": "markdown",
   "metadata": {},
   "source": [
    "# U.S. Medical Insurance Costs"
   ]
  },
  {
   "cell_type": "code",
   "execution_count": 34,
   "metadata": {},
   "outputs": [],
   "source": [
    "#importing insurance CSV\n",
    "import csv\n",
    "# initializing variables\n",
    "insurance_dict = dict()\n",
    "age, sex, bmi, children, smoker, region, charges = [],[],[],[],[],[],[]\n",
    "with open('insurance.csv') as insurance_data:\n",
    "    insurance_dict = csv.DictReader(insurance_data)\n",
    "    #saving columns into list variables\n",
    "    for row in insurance_dict:\n",
    "        age.append(row['age'])\n",
    "        sex.append(row['sex'])\n",
    "        bmi.append(row['bmi'])\n",
    "        children.append(row['children'])\n",
    "        smoker.append(row['smoker'])\n",
    "        region.append(row['region'])\n",
    "        charges.append(row['charges'])"
   ]
  },
  {
   "cell_type": "markdown",
   "metadata": {},
   "source": [
    "After collecting data into list variables it is now time to perform an analyis"
   ]
  },
  {
   "cell_type": "code",
   "execution_count": 45,
   "metadata": {},
   "outputs": [
    {
     "name": "stdout",
     "output_type": "stream",
     "text": [
      "There are 676 males and 662 females in the insurance.csv file\n"
     ]
    }
   ],
   "source": [
    "def count_genders(sex):\n",
    "    count_male = 0\n",
    "    count_female = 0\n",
    "    for gender in sex:\n",
    "        if gender == 'male':\n",
    "            count_male += 1\n",
    "        elif gender == 'female':\n",
    "            count_female += 1\n",
    "    return count_male, count_female\n",
    "count_male, count_female = count_genders(sex)\n",
    "\n",
    "print(\"There are {count_male} males and {count_female} females in the insurance.csv file\".format(count_male = count_male, count_female = count_female))"
   ]
  },
  {
   "cell_type": "markdown",
   "metadata": {},
   "source": [
    "Males have slightly more representation in this list although the difference between number of males and females is really not large.\n"
   ]
  },
  {
   "cell_type": "code",
   "execution_count": 69,
   "metadata": {},
   "outputs": [
    {
     "name": "stdout",
     "output_type": "stream",
     "text": [
      "Avg. num of children for males: 1.1153846153846154; Avg. num of children for females: 1.0740181268882176\n"
     ]
    }
   ],
   "source": [
    "def average_children_by_gender(sex, children):\n",
    "    count_children_belonging_to_males = 0\n",
    "    count_children_belonging_to_females = 0\n",
    "    for index in range(0,len(sex),1):\n",
    "        if sex[index] == 'male':\n",
    "            count_children_belonging_to_males += int(children[index])\n",
    "        elif sex[index] == 'female':\n",
    "            count_children_belonging_to_females += int(children[index])\n",
    "    avg_children_belonging_to_males = count_children_belonging_to_males/count_male\n",
    "    avg_children_belonging_to_females = count_children_belonging_to_females/count_female\n",
    "    return avg_children_belonging_to_males, avg_children_belonging_to_females\n",
    "avg_children_belonging_to_males, avg_children_belonging_to_females = average_children_by_gender(sex, children)\n",
    "\n",
    "print(\"Avg. num of children for males: {avg_males}; Avg. num of children for females: {avg_females}\".format(avg_males = avg_children_belonging_to_males, avg_females = avg_children_belonging_to_females)) "
   ]
  },
  {
   "cell_type": "code",
   "execution_count": 73,
   "metadata": {},
   "outputs": [
    {
     "name": "stdout",
     "output_type": "stream",
     "text": [
      "Average insurance charges male, female: 13956.75 12569.58\n"
     ]
    }
   ],
   "source": [
    "def avg_cost_by_gender(sex, charges):\n",
    "    cumulative_charge_male = 0\n",
    "    cumulative_charge_female = 0\n",
    "    for index in range(0,len(sex),1):\n",
    "        if sex[index] == 'male':\n",
    "            cumulative_charge_male += float(charges[index])\n",
    "        elif sex[index] == 'female':\n",
    "            cumulative_charge_female += float(charges[index])\n",
    "    avg_cost_male = cumulative_charge_male/count_male\n",
    "    avg_cost_female = cumulative_charge_female/count_female\n",
    "    return avg_cost_male, avg_cost_female\n",
    "\n",
    "avg_charge_male, avg_charge_female = avg_cost_by_gender(sex, charges)\n",
    "\n",
    "print(\"Average insurance charges male, female:\",round(avg_charge_male,2), round(avg_charge_female,2))"
   ]
  },
  {
   "cell_type": "markdown",
   "metadata": {},
   "source": [
    "Based on the above result it seems that males and females are treated failry equally by this insurance company"
   ]
  },
  {
   "cell_type": "code",
   "execution_count": 67,
   "metadata": {},
   "outputs": [
    {
     "name": "stdout",
     "output_type": "stream",
     "text": [
      "The average age is:  39.0\n"
     ]
    }
   ],
   "source": [
    "# find avrage age in data set/ analyze what region majority are from / cost between smoker v non / avg. age for person with at least 1 child\n",
    "def average_age(ages):\n",
    "    count_age = 0\n",
    "    for person in ages:\n",
    "        count_age += int(person)\n",
    "    return count_age/len(ages)\n",
    "avg_age = average_age(age)\n",
    "print(\"The average age is: \", round(avg_age, 0))"
   ]
  },
  {
   "cell_type": "code",
   "execution_count": 92,
   "metadata": {},
   "outputs": [
    {
     "name": "stdout",
     "output_type": "stream",
     "text": [
      "{'northeast': 324, 'southeast': 364, 'northwest': 325, 'southwest': 325}\n"
     ]
    }
   ],
   "source": [
    "def regional_count(region):\n",
    "    dict_region_count = {\n",
    "        \"northeast\": 0,\n",
    "        \"southeast\": 0,\n",
    "        \"northwest\": 0,\n",
    "        \"southwest\": 0\n",
    "    }\n",
    "    for place in region:\n",
    "        if place == \"northeast\":\n",
    "            dict_region_count[\"northeast\"] += 1\n",
    "        elif place == \"southeast\":\n",
    "            dict_region_count[\"southeast\"] += 1\n",
    "        elif place == \"northwest\":\n",
    "            dict_region_count[\"northwest\"] += 1\n",
    "        if place == \"southwest\":\n",
    "            dict_region_count[\"southwest\"] += 1\n",
    "    return dict_region_count\n",
    "region_count_dict = regional_count(region)\n",
    "print(region_count_dict)"
   ]
  },
  {
   "cell_type": "code",
   "execution_count": 98,
   "metadata": {},
   "outputs": [
    {
     "name": "stdout",
     "output_type": "stream",
     "text": [
      "Average cost by region: {'northeast': 13406.38, 'southeast': 11933.16, 'northwest': 13365.13, 'southwest': 13365.13}\n"
     ]
    }
   ],
   "source": [
    "def avg_charge_by_region(charges, region):\n",
    "    cumulative_charge_northeast = 0\n",
    "    cumulative_charge_southeast = 0\n",
    "    cumulative_charge_northwest = 0\n",
    "    cumulative_charge_southwest = 0\n",
    "    dict_avg_charge_by_region = {\n",
    "        \"northeast\": 0,\n",
    "        \"southeast\": 0,\n",
    "        \"northwest\": 0,\n",
    "        \"southwest\": 0\n",
    "    }\n",
    "    for index in range(0,len(region),1):\n",
    "        if region[index] == \"northeast\":\n",
    "            cumulative_charge_northeast += float(charges[index])\n",
    "        elif region[index] == \"southeast\":\n",
    "            cumulative_charge_southeast += float(charges[index])\n",
    "        elif region[index] == \"northwest\":\n",
    "            cumulative_charge_northwest += float(charges[index])\n",
    "        elif region[index] == \"southwest\":\n",
    "            cumulative_charge_southwest += float(charges[index])\n",
    "    dict_avg_charge_by_region[\"northeast\"] = round(cumulative_charge_northeast/region_count_dict[\"northeast\"],2)\n",
    "    dict_avg_charge_by_region[\"southeast\"] = round(cumulative_charge_northeast/region_count_dict[\"southeast\"],2)\n",
    "    dict_avg_charge_by_region[\"northwest\"] = round(cumulative_charge_northeast/region_count_dict[\"northwest\"],2)\n",
    "    dict_avg_charge_by_region[\"southwest\"] = round(cumulative_charge_northeast/region_count_dict[\"southwest\"],2)\n",
    "    return dict_avg_charge_by_region\n",
    "avg_charge_by_region_dict = avg_charge_by_region(charges, region)\n",
    "print(\"Average cost by region:\",avg_charge_by_region_dict)"
   ]
  },
  {
   "cell_type": "markdown",
   "metadata": {},
   "source": [
    "Clients in the Southeast have a lower average charges because there are more of them in this data set. "
   ]
  },
  {
   "cell_type": "code",
   "execution_count": 81,
   "metadata": {},
   "outputs": [
    {
     "name": "stdout",
     "output_type": "stream",
     "text": [
      "The difference in average cost between smokers and non-smokers is: 23615.96\n"
     ]
    }
   ],
   "source": [
    "def diff_smoker_v_nonsmoker(smoker, charges):\n",
    "    cumulative_charge_smoker = 0\n",
    "    smoker_count = 0\n",
    "    non_count = 0\n",
    "    cumulative_charge_non = 0\n",
    "    for index in range(0,len(smoker),1):\n",
    "        if smoker[index] == 'yes':\n",
    "            cumulative_charge_smoker += float(charges[index])\n",
    "            smoker_count += 1\n",
    "        elif smoker[index] == 'no':\n",
    "            cumulative_charge_non += float(charges[index])\n",
    "            non_count += 1\n",
    "    avg_charge_smoker = cumulative_charge_smoker/smoker_count\n",
    "    avg_charge_non = cumulative_charge_non/non_count\n",
    "    diff_btw_avg = abs(avg_charge_smoker - avg_charge_non)\n",
    "    return diff_btw_avg\n",
    "\n",
    "print(\"The difference in average cost between smokers and non-smokers is:\", round(diff_smoker_v_nonsmoker(smoker, charges),2))"
   ]
  },
  {
   "cell_type": "markdown",
   "metadata": {},
   "source": [
    "Smokers pay substantially more than non-smokers on average. "
   ]
  },
  {
   "cell_type": "code",
   "execution_count": 87,
   "metadata": {},
   "outputs": [
    {
     "name": "stdout",
     "output_type": "stream",
     "text": [
      "The average age for those with one or more children is: 39.78\n"
     ]
    }
   ],
   "source": [
    "def avg_age_one_or_more_children(age, children):\n",
    "    age_cumulative = 0\n",
    "    num_of_people = 0\n",
    "    for i in range(0,len(age),1):\n",
    "        if int(children[i]) >= 1:\n",
    "            age_cumulative += int(age[i])\n",
    "            num_of_people += 1\n",
    "    avg_age = round(age_cumulative/num_of_people,2)\n",
    "    return avg_age\n",
    "\n",
    "print(\"The average age for those with one or more children is:\", avg_age_one_or_more_children(age, children))"
   ]
  }
 ],
 "metadata": {
  "kernelspec": {
   "display_name": "Python 3 (ipykernel)",
   "language": "python",
   "name": "python3"
  },
  "language_info": {
   "codemirror_mode": {
    "name": "ipython",
    "version": 3
   },
   "file_extension": ".py",
   "mimetype": "text/x-python",
   "name": "python",
   "nbconvert_exporter": "python",
   "pygments_lexer": "ipython3",
   "version": "3.12.4"
  }
 },
 "nbformat": 4,
 "nbformat_minor": 4
}
