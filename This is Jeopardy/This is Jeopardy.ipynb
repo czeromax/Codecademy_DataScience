{
 "cells": [
  {
   "cell_type": "markdown",
   "metadata": {},
   "source": [
    "# This is Jeopardy!"
   ]
  },
  {
   "cell_type": "markdown",
   "metadata": {},
   "source": [
    "#### Overview"
   ]
  },
  {
   "cell_type": "markdown",
   "metadata": {},
   "source": [
    "This project is slightly different than others you have encountered thus far. Instead of a step-by-step tutorial, this project contains a series of open-ended requirements which describe the project you'll be building. There are many possible ways to correctly fulfill all of these requirements, and you should expect to use the internet, Codecademy, and/or other resources when you encounter a problem that you cannot easily solve."
   ]
  },
  {
   "cell_type": "markdown",
   "metadata": {},
   "source": [
    "#### Project Goals"
   ]
  },
  {
   "cell_type": "markdown",
   "metadata": {},
   "source": [
    "You will work to write several functions that investigate a dataset of _Jeopardy!_ questions and answers. Filter the dataset for topics that you're interested in, compute the average difficulty of those questions, and train to become the next Jeopardy champion!"
   ]
  },
  {
   "cell_type": "markdown",
   "metadata": {},
   "source": [
    "## Prerequisites"
   ]
  },
  {
   "cell_type": "markdown",
   "metadata": {},
   "source": [
    "In order to complete this project, you should have completed the Pandas lessons in the <a href=\"https://www.codecademy.com/learn/paths/analyze-data-with-python\">Analyze Data with Python Skill Path</a>. You can also find those lessons in the <a href=\"https://www.codecademy.com/learn/data-processing-pandas\">Data Analysis with Pandas course</a> or the <a href=\"https://www.codecademy.com/learn/paths/data-science/\">Data Scientist Career Path</a>.\n",
    "\n",
    "Finally, the <a href=\"https://www.codecademy.com/learn/practical-data-cleaning\">Practical Data Cleaning</a> course may also be helpful."
   ]
  },
  {
   "cell_type": "markdown",
   "metadata": {},
   "source": [
    "## Project Requirements"
   ]
  },
  {
   "cell_type": "markdown",
   "metadata": {},
   "source": [
    "1. We've provided a csv file containing data about the game show _Jeopardy!_ in a file named `jeopardy.csv`. Load the data into a DataFrame and investigate its contents. Try to print out specific columns.\n",
    "\n",
    "   Note that in order to make this project as \"real-world\" as possible, we haven't modified the data at all - we're giving it to you exactly how we found it. As a result, this data isn't as \"clean\" as the datasets you normally find on Codecademy. More specifically, there's something odd about the column names. After you figure out the problem with the column names, you may want to rename them to make your life easier for the rest of the project.\n",
    "   \n",
    "   In order to display the full contents of a column, we've added this line of code for you:\n",
    "   \n",
    "   ```py\n",
    "   pd.set_option('display.max_colwidth', None)\n",
    "   ```"
   ]
  },
  {
   "cell_type": "code",
   "execution_count": 55,
   "metadata": {},
   "outputs": [
    {
     "name": "stdout",
     "output_type": "stream",
     "text": [
      "   Show Number    Air Date      Round                         Category Value  \\\n",
      "0         4680  2004-12-31  Jeopardy!                          HISTORY  $200   \n",
      "1         4680  2004-12-31  Jeopardy!  ESPN's TOP 10 ALL-TIME ATHLETES  $200   \n",
      "2         4680  2004-12-31  Jeopardy!      EVERYBODY TALKS ABOUT IT...  $200   \n",
      "3         4680  2004-12-31  Jeopardy!                 THE COMPANY LINE  $200   \n",
      "4         4680  2004-12-31  Jeopardy!              EPITAPHS & TRIBUTES  $200   \n",
      "5         4680  2004-12-31  Jeopardy!                   3-LETTER WORDS  $200   \n",
      "6         4680  2004-12-31  Jeopardy!                          HISTORY  $400   \n",
      "7         4680  2004-12-31  Jeopardy!  ESPN's TOP 10 ALL-TIME ATHLETES  $400   \n",
      "8         4680  2004-12-31  Jeopardy!      EVERYBODY TALKS ABOUT IT...  $400   \n",
      "9         4680  2004-12-31  Jeopardy!                 THE COMPANY LINE  $400   \n",
      "\n",
      "                                                                                                        Question  \\\n",
      "0               For the last 8 years of his life, Galileo was under house arrest for espousing this man's theory   \n",
      "1    No. 2: 1912 Olympian; football star at Carlisle Indian School; 6 MLB seasons with the Reds, Giants & Braves   \n",
      "2                       The city of Yuma in this state has a record average of 4,055 hours of sunshine each year   \n",
      "3                           In 1963, live on \"The Art Linkletter Show\", this company served its billionth burger   \n",
      "4       Signer of the Dec. of Indep., framer of the Constitution of Mass., second President of the United States   \n",
      "5                                  In the title of an Aesop fable, this insect shared billing with a grasshopper   \n",
      "6                                   Built in 312 B.C. to link Rome & the South of Italy, it's still in use today   \n",
      "7                                         No. 8: 30 steals for the Birmingham Barons; 2,306 steals for the Bulls   \n",
      "8  In the winter of 1971-72, a record 1,122 inches of snow fell at Rainier Paradise Ranger Station in this state   \n",
      "9             This housewares store was named for the packaging its merchandise came in & was first displayed on   \n",
      "\n",
      "           Answer  \n",
      "0      Copernicus  \n",
      "1      Jim Thorpe  \n",
      "2         Arizona  \n",
      "3      McDonald's  \n",
      "4      John Adams  \n",
      "5         the ant  \n",
      "6  the Appian Way  \n",
      "7  Michael Jordan  \n",
      "8      Washington  \n",
      "9  Crate & Barrel  \n"
     ]
    }
   ],
   "source": [
    "import pandas as pd\n",
    "pd.set_option('display.max_colwidth', None)\n",
    "\n",
    "df = pd.read_csv('jeopardy.csv')\n",
    "df = df.rename(columns = lambda x: x.strip())\n",
    "print(df.head(10))"
   ]
  },
  {
   "cell_type": "markdown",
   "metadata": {},
   "source": [
    "2. Write a function that filters the dataset for questions that contains all of the words in a list of words. For example, when the list `[\"King\", \"England\"]` was passed to our function, the function returned a DataFrame of 49 rows. Every row had the strings `\"King\"` and `\"England\"` somewhere in its `\" Question\"`.\n",
    "\n",
    "   Test your function by printing out the column containing the question of each row of the dataset."
   ]
  },
  {
   "cell_type": "code",
   "execution_count": 65,
   "metadata": {},
   "outputs": [
    {
     "name": "stdout",
     "output_type": "stream",
     "text": [
      "       Show Number    Air Date             Round             Category  Value  \\\n",
      "4953          3003  1997-09-24  Double Jeopardy!         \"PH\"UN WORDS   $200   \n",
      "14912         2832  1996-12-17         Jeopardy!        WORLD HISTORY   $100   \n",
      "21511         4650  2004-11-19         Jeopardy!           THE \"O.C.\"  $1000   \n",
      "23810         4862  2005-11-01         Jeopardy!        NAME THE YEAR   $400   \n",
      "27555         1799  1992-05-28  Double Jeopardy!     HISTORIC IN-LAWS   $600   \n",
      "33294         5589  2008-12-18         Jeopardy!  THE BAYEUX TAPESTRY   $600   \n",
      "41148         5925  2010-05-21  Double Jeopardy!             TREATIES  $1600   \n",
      "41357         2751  1996-07-15         Jeopardy!       HISTORIC NAMES   $400   \n",
      "43122         3937  2001-10-16  Double Jeopardy!           OH, HENRY!   $400   \n",
      "47814         4365  2003-07-18  Double Jeopardy!              POTIONS  $2000   \n",
      "\n",
      "                                                                                                                                                                                                                                                                                                                                           Question  \\\n",
      "4953                                                                                                                                                                                                                                                       Both England's King George V & FDR put their stamp of approval on this \"King of Hobbies\"   \n",
      "14912                                                                                                                                                                                                                                             This country's King Louis IV was nicknamed \"Louis From Overseas\" because he was raised in England   \n",
      "21511                                                                                                                                                                                                                                                                  this man and his son ruled England following the execution of King Charles I   \n",
      "23810                                                                                                                                                                                                                                          William the Conqueror was crowned King of England in Westminster Abbey on Christmas Day in this year   \n",
      "27555                                                                                                                                                                                                                                                            This member of the Medici family was the mother-in-law of England's King Charles I   \n",
      "33294  (Sarah of the Clue Crew delivers the clue from the Bayeux Cathedral in France.)  Despite taking an oath to assure another succession, Harold is crowned King of England; the tapestry indicated it was <a href=\"http://www.j-archive.com/media/2008-12-18_J_08.jpg\" target=\"_blank\">Stigant</a>, this archbishop, who performed the ceremony   \n",
      "41148                                                                                                                                                                                                                     This French king recognized William of Orange as William II, King of England, under the terms of 1697's Treaty of Ryswick   \n",
      "41357                                                                                                                                                                                                                                      England's King Henry VIII had 3 wives named Catherine:  Catherine Howard, Catherine of Aragon & this one   \n",
      "43122                                                                                                                                                                                                                                                                                                        The father of England's King Edward VI   \n",
      "47814                                                                                                                                                                                                                                                                                    This steak sauce was created for King George IV of England   \n",
      "\n",
      "                             Answer  \n",
      "4953   Philately (stamp collecting)  \n",
      "14912                        France  \n",
      "21511               Oliver Cromwell  \n",
      "23810                          1066  \n",
      "27555               Marie de Medici  \n",
      "33294  the Archbishop of Canterbury  \n",
      "41148                     Louis XIV  \n",
      "41357                Catherine Parr  \n",
      "43122                    Henry VIII  \n",
      "47814                            A1  \n"
     ]
    }
   ],
   "source": [
    "def filter_data(data, words):\n",
    "    # filter\n",
    "    filter = lambda x: all(word in x for word in words)\n",
    "    # return new df\n",
    "    return data.loc[data[\"Question\"].apply(filter)]\n",
    "\n",
    "filtered_df = filter_data(df, [\"King\",\"England\"])\n",
    "print(filtered_df.head(10))"
   ]
  },
  {
   "cell_type": "markdown",
   "metadata": {},
   "source": [
    "3. Test your original function with a few different sets of words to try to find some ways your function breaks. Edit your function so it is more robust.\n",
    "\n",
    "   For example, think about capitalization. We probably want to find questions that contain the word `\"King\"` or `\"king\"`.\n",
    "   \n",
    "   You may also want to check to make sure you don't find rows that contain substrings of your given words. For example, our function found a question that didn't contain the word `\"king\"`, however it did contain the word `\"viking\"` &mdash; it found the `\"king\"` inside `\"viking\"`. Note that this also comes with some drawbacks &mdash; you would no longer find questions that contained words like `\"England's\"`."
   ]
  },
  {
   "cell_type": "code",
   "execution_count": 67,
   "metadata": {},
   "outputs": [
    {
     "name": "stdout",
     "output_type": "stream",
     "text": [
      "       Show Number    Air Date             Round                  Category  \\\n",
      "4953          3003  1997-09-24  Double Jeopardy!              \"PH\"UN WORDS   \n",
      "6337          3517  1999-12-14  Double Jeopardy!                       Y1K   \n",
      "9191          3907  2001-09-04  Double Jeopardy!            WON THE BATTLE   \n",
      "11710         2903  1997-03-26  Double Jeopardy!          BRITISH MONARCHS   \n",
      "13454         4726  2005-03-07         Jeopardy!     A NUMBER FROM 1 TO 10   \n",
      "14445         1103  1989-05-24         Jeopardy!             FAMOUS QUOTES   \n",
      "14912         2832  1996-12-17         Jeopardy!             WORLD HISTORY   \n",
      "16475         5816  2009-12-21         Jeopardy!  THEY WERE CONTEMPORARIES   \n",
      "18076         3227  1998-09-22  Double Jeopardy!             WORLD HISTORY   \n",
      "19104         3322  1999-02-02         Jeopardy!            HISTORIC NAMES   \n",
      "\n",
      "       Value  \\\n",
      "4953    $200   \n",
      "6337    $800   \n",
      "9191    $800   \n",
      "11710   $600   \n",
      "13454  $1000   \n",
      "14445   $300   \n",
      "14912   $100   \n",
      "16475   $200   \n",
      "18076  $1000   \n",
      "19104   $200   \n",
      "\n",
      "                                                                                                            Question  \\\n",
      "4953                        Both England's King George V & FDR put their stamp of approval on this \"King of Hobbies\"   \n",
      "6337          In retaliation for Viking raids, this \"Unready\" king of England attacks Norse areas of the Isle of Man   \n",
      "9191                        This king of England beat the odds to trounce the French in the 1415 Battle of Agincourt   \n",
      "11710                   This Scotsman, the first Stuart king of England, was called \"The Wisest Fool in Christendom\"   \n",
      "13454                                           It's the number that followed the last king of England named William   \n",
      "14445                      Nelson said, \"England expects that every man will do\" this & died thanking God he did his   \n",
      "14912              This country's King Louis IV was nicknamed \"Louis From Overseas\" because he was raised in England   \n",
      "16475  There was good kinging in the 800s--Leo the Wise ruled the Byzantine Empire while England had Alfred the this   \n",
      "18076                In 1199 this crusader king of England was mortally wounded while besieging the castle of Chalus   \n",
      "19104                                   Name of 8 kings of England since 1272, it was also General Lee's middle name   \n",
      "\n",
      "                             Answer  \n",
      "4953   Philately (stamp collecting)  \n",
      "6337                       Ethelred  \n",
      "9191                        Henry V  \n",
      "11710                       James I  \n",
      "13454                             4  \n",
      "14445                      his duty  \n",
      "14912                        France  \n",
      "16475                     the Great  \n",
      "18076       Richard the Lionhearted  \n",
      "19104                        Edward  \n"
     ]
    }
   ],
   "source": [
    "def filter_data(data, words):\n",
    "    # filter\n",
    "    filter = lambda x: all(word.lower() in x.lower() for word in words)\n",
    "    # return new df\n",
    "    return data.loc[data[\"Question\"].apply(filter)]\n",
    "\n",
    "filtered_df = filter_data(df, [\"King\",\"England\"])\n",
    "print(filtered_df.head(10))"
   ]
  },
  {
   "cell_type": "markdown",
   "metadata": {},
   "source": [
    "4. We may want to eventually compute aggregate statistics, like `.mean()` on the `\" Value\"` column. But right now, the values in that column are strings. Convert the`\" Value\"` column to floats. If you'd like to, you can create a new column with float values.\n",
    "\n",
    "   While most of the values in the `\" Value\"` column represent a dollar amount as a string, note that some do not &mdash; these values will need to be handled differently!\n",
    "\n",
    "   Now that you can filter the dataset of question, use your new column that contains the float values of each question to find the \"difficulty\" of certain topics. For example, what is the average value of questions that contain the word `\"King\"`?\n",
    "   \n",
    "   Make sure to use the dataset that contains the float values as the dataset you use in your filtering function."
   ]
  },
  {
   "cell_type": "code",
   "execution_count": 73,
   "metadata": {},
   "outputs": [
    {
     "name": "stdout",
     "output_type": "stream",
     "text": [
      "771.8833850722094\n"
     ]
    }
   ],
   "source": [
    "df[\"Value_float\"] = df.Value.apply(lambda x: float(x[1:].replace(',','')) if x != \"no value\" else 0) \n",
    "# print(df.Value_float.head(10))\n",
    "\n",
    "mean_value_king = filter_data(df,[\"King\"]).Value_float.mean()\n",
    "print(mean_value_king)"
   ]
  },
  {
   "cell_type": "markdown",
   "metadata": {},
   "source": [
    "5. Write a function that returns the count of unique answers to all of the questions in a dataset. For example, after filtering the entire dataset to only questions containing the word `\"King\"`, we could then find all of the unique answers to those questions. The answer \"Henry VIII\" appeared 55 times and was the most common answer."
   ]
  },
  {
   "cell_type": "code",
   "execution_count": 79,
   "metadata": {},
   "outputs": [
    {
     "name": "stdout",
     "output_type": "stream",
     "text": [
      "Answer\n",
      "Henry VIII                   55\n",
      "Solomon                      35\n",
      "Richard III                  33\n",
      "Louis XIV                    31\n",
      "David                        30\n",
      "                             ..\n",
      "cardiac (in card I acted)     1\n",
      "Henderson                     1\n",
      "Computer                      1\n",
      "Indians                       1\n",
      "work                          1\n",
      "Name: count, Length: 5268, dtype: int64\n"
     ]
    }
   ],
   "source": [
    "def count_unique_answers(data):\n",
    "    return data.Answer.value_counts()\n",
    "\n",
    "count_unique = count_unique_answers(filter_data(df,[\"King\"]))\n",
    "print(count_unique)"
   ]
  },
  {
   "cell_type": "markdown",
   "metadata": {},
   "source": [
    "6. Explore from here! This is an incredibly rich dataset, and there are so many interesting things to discover. There are a few columns that we haven't even started looking at yet. Here are some ideas on ways to continue working with this data:\n",
    "\n",
    " * Investigate the ways in which questions change over time by filtering by the date. How many questions from the 90s use the word `\"Computer\"` compared to questions from the 2000s?\n",
    " * Is there a connection between the round and the category? Are you more likely to find certain categories, like `\"Literature\"` in Single Jeopardy or Double Jeopardy?\n",
    " * Build a system to quiz yourself. Grab random questions, and use the <a href=\"https://docs.python.org/3/library/functions.html#input\">input</a> function to get a response from the user. Check to see if that response was right or wrong."
   ]
  },
  {
   "cell_type": "code",
   "execution_count": null,
   "metadata": {},
   "outputs": [],
   "source": []
  },
  {
   "cell_type": "markdown",
   "metadata": {},
   "source": [
    "## Solution"
   ]
  },
  {
   "cell_type": "markdown",
   "metadata": {},
   "source": [
    "7. Compare your program to our <a href=\"https://content.codecademy.com/PRO/independent-practice-projects/jeopardy/jeopardy_solution.zip\">sample solution code</a> - remember, that your program might look different from ours (and probably will) and that's okay!"
   ]
  },
  {
   "cell_type": "markdown",
   "metadata": {},
   "source": [
    "8. Great work! Visit <a href=\"https://discuss.codecademy.com/t/this-is-jeopardy-challenge-project-python-pandas/462365\">our forums</a> to compare your project to our sample solution code. You can also learn how to host your own solution on GitHub so you can share it with other learners! Your solution might look different from ours, and that's okay! There are multiple ways to solve these projects, and you'll learn more by seeing others' code."
   ]
  },
  {
   "cell_type": "code",
   "execution_count": null,
   "metadata": {},
   "outputs": [],
   "source": []
  }
 ],
 "metadata": {
  "kernelspec": {
   "display_name": "Python 3 (ipykernel)",
   "language": "python",
   "name": "python3"
  },
  "language_info": {
   "codemirror_mode": {
    "name": "ipython",
    "version": 3
   },
   "file_extension": ".py",
   "mimetype": "text/x-python",
   "name": "python",
   "nbconvert_exporter": "python",
   "pygments_lexer": "ipython3",
   "version": "3.12.4"
  }
 },
 "nbformat": 4,
 "nbformat_minor": 4
}
